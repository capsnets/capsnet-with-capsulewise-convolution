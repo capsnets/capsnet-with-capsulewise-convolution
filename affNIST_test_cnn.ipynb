{
 "cells": [
  {
   "cell_type": "markdown",
   "metadata": {},
   "source": [
    "# Testing custom CNN trained on padded and translated MNIST train set on affNIST test set"
   ]
  },
  {
   "cell_type": "code",
   "execution_count": 1,
   "metadata": {},
   "outputs": [
    {
     "name": "stderr",
     "output_type": "stream",
     "text": [
      "Using TensorFlow backend.\n"
     ]
    }
   ],
   "source": [
    "from keras import backend as K\n",
    "from keras.datasets import mnist\n",
    "from keras.models import Model, Sequential, load_model\n",
    "from keras.layers import Input, Conv2D, Activation, Dense, Dropout, Lambda\n",
    "from keras.layers import BatchNormalization, MaxPooling2D, Flatten, Conv1D\n",
    "from convcaps.capslayers import ConvertToCaps, Conv2DCaps, FlattenCaps\n",
    "from convcaps.capslayers import DenseCaps, CapsToScalars\n",
    "from keras.utils import to_categorical\n",
    "from keras.callbacks import Callback, ModelCheckpoint, TensorBoard\n",
    "from keras import optimizers\n",
    "from keras import regularizers\n",
    "from keras import losses\n",
    "import numpy as np\n",
    "from scipy.io import matlab\n",
    "import os"
   ]
  },
  {
   "cell_type": "markdown",
   "metadata": {},
   "source": [
    "## Load train set generated in generate_datasets.py"
   ]
  },
  {
   "cell_type": "code",
   "execution_count": 2,
   "metadata": {
    "collapsed": true
   },
   "outputs": [],
   "source": [
    "img_rows, img_cols = 40, 40\n",
    "num_classes = 10\n",
    "\n",
    "x_train = np.load('generateddatasets/x_train_only_translation.npy').astype(np.float32)\n",
    "x_train = x_train.reshape(x_train.shape[0], img_rows, img_cols, 1)\n",
    "x_train /= 255.0\n",
    "\n",
    "y_train = np.load('generateddatasets/y_train_only_translation.npy')\n",
    "y_train = to_categorical(y_train, num_classes)\n",
    "\n",
    "input_shape = (img_rows, img_cols, 1)"
   ]
  },
  {
   "cell_type": "markdown",
   "metadata": {},
   "source": [
    "## Assemble CNN with 3 conv layers and two dense layers"
   ]
  },
  {
   "cell_type": "code",
   "execution_count": 3,
   "metadata": {},
   "outputs": [
    {
     "name": "stdout",
     "output_type": "stream",
     "text": [
      "_________________________________________________________________\n",
      "Layer (type)                 Output Shape              Param #   \n",
      "=================================================================\n",
      "input_1 (InputLayer)         (None, 40, 40, 1)         0         \n",
      "_________________________________________________________________\n",
      "conv2d_1 (Conv2D)            (None, 38, 38, 8)         80        \n",
      "_________________________________________________________________\n",
      "batch_normalization_1 (Batch (None, 38, 38, 8)         32        \n",
      "_________________________________________________________________\n",
      "max_pooling2d_1 (MaxPooling2 (None, 19, 19, 8)         0         \n",
      "_________________________________________________________________\n",
      "conv2d_2 (Conv2D)            (None, 17, 17, 16)        1168      \n",
      "_________________________________________________________________\n",
      "batch_normalization_2 (Batch (None, 17, 17, 16)        64        \n",
      "_________________________________________________________________\n",
      "max_pooling2d_2 (MaxPooling2 (None, 8, 8, 16)          0         \n",
      "_________________________________________________________________\n",
      "conv2d_3 (Conv2D)            (None, 6, 6, 32)          4640      \n",
      "_________________________________________________________________\n",
      "batch_normalization_3 (Batch (None, 6, 6, 32)          128       \n",
      "_________________________________________________________________\n",
      "max_pooling2d_3 (MaxPooling2 (None, 3, 3, 32)          0         \n",
      "_________________________________________________________________\n",
      "flatten_1 (Flatten)          (None, 288)               0         \n",
      "_________________________________________________________________\n",
      "dense_1 (Dense)              (None, 72)                20808     \n",
      "_________________________________________________________________\n",
      "batch_normalization_4 (Batch (None, 72)                288       \n",
      "_________________________________________________________________\n",
      "dense_2 (Dense)              (None, 10)                730       \n",
      "=================================================================\n",
      "Total params: 27,938\n",
      "Trainable params: 27,682\n",
      "Non-trainable params: 256\n",
      "_________________________________________________________________\n"
     ]
    }
   ],
   "source": [
    "l2 = regularizers.l2(l=0.001)\n",
    "\n",
    "inp = Input(shape=input_shape)\n",
    "l = inp\n",
    "\n",
    "l = Conv2D(8, (3, 3), activation='relu', kernel_regularizer=l2)(l)\n",
    "l = BatchNormalization()(l)\n",
    "l = MaxPooling2D((2, 2))(l)\n",
    "l = Conv2D(16, (3, 3), activation='relu', kernel_regularizer=l2)(l) \n",
    "l = BatchNormalization()(l)\n",
    "l = MaxPooling2D((2, 2))(l)\n",
    "l = Conv2D(32, (3, 3), activation='relu', kernel_regularizer=l2)(l)\n",
    "l = BatchNormalization()(l)\n",
    "l = MaxPooling2D((2, 2))(l)\n",
    "l = Flatten()(l)\n",
    "l = Dense(72, activation='relu', kernel_regularizer=l2)(l)\n",
    "l = BatchNormalization()(l)\n",
    "l = Dense(10, activation='softmax', kernel_regularizer=l2)(l)\n",
    "\n",
    "model = Model(inputs=inp, outputs=l, name='40x40_input_cnn')\n",
    "model.summary()"
   ]
  },
  {
   "cell_type": "code",
   "execution_count": 4,
   "metadata": {
    "collapsed": true
   },
   "outputs": [],
   "source": [
    "def caps_objective(y_true, y_pred):\n",
    "    return K.sum(y_true * K.clip(0.8 - y_pred, 0, 1) ** 2 + 0.5 * (1 - y_true) * K.clip(y_pred - 0.3, 0, 1) ** 2)\n",
    "\n",
    "optimizer = optimizers.Adam(lr=0.001)\n",
    "model.compile(loss=losses.categorical_crossentropy, #caps_objective,\n",
    "              optimizer=optimizer,\n",
    "              metrics=['accuracy'])"
   ]
  },
  {
   "cell_type": "code",
   "execution_count": 5,
   "metadata": {},
   "outputs": [],
   "source": [
    "w_path = os.path.join('weights', model.name)\n",
    "\n",
    "if not os.path.exists(w_path):\n",
    "    os.makedirs(w_path)\n",
    "    \n",
    "f_name = os.path.join(w_path, 'weights.{epoch:02d}.hdf5')    "
   ]
  },
  {
   "cell_type": "markdown",
   "metadata": {},
   "source": [
    "# Train for 1 epochs"
   ]
  },
  {
   "cell_type": "code",
   "execution_count": 6,
   "metadata": {},
   "outputs": [
    {
     "name": "stdout",
     "output_type": "stream",
     "text": [
      "Train on 436800 samples, validate on 43200 samples\n",
      "Epoch 1/4\n",
      "436800/436800 [==============================] - 578s - loss: 0.2089 - acc: 0.9642 - val_loss: 0.1318 - val_acc: 0.9805\n",
      "Epoch 2/4\n",
      "436800/436800 [==============================] - 538s - loss: 0.1285 - acc: 0.9800 - val_loss: 0.1322 - val_acc: 0.9795\n",
      "Epoch 3/4\n",
      "436800/436800 [==============================] - 528s - loss: 0.1193 - acc: 0.9813 - val_loss: 0.1012 - val_acc: 0.9864\n",
      "Epoch 4/4\n",
      "436800/436800 [==============================] - 537s - loss: 0.1129 - acc: 0.9820 - val_loss: 0.1042 - val_acc: 0.9851\n"
     ]
    }
   ],
   "source": [
    "batch_size = 32\n",
    "num_epochs = 4\n",
    "\n",
    "h = model.fit(x_train, y_train,\n",
    "          batch_size=batch_size, epochs=num_epochs, initial_epoch=0,\n",
    "          verbose=1, validation_split=0.09,\n",
    "          callbacks=[ModelCheckpoint(f_name)])"
   ]
  },
  {
   "cell_type": "markdown",
   "metadata": {},
   "source": [
    "## Test on affNIST test set"
   ]
  },
  {
   "cell_type": "code",
   "execution_count": 16,
   "metadata": {},
   "outputs": [
    {
     "name": "stdout",
     "output_type": "stream",
     "text": [
      "320000/320000 [==============================] - 98s    \n",
      "\n",
      "Test score:  0.965831407426\n",
      "Test accuracy:  0.73925\n"
     ]
    }
   ],
   "source": [
    "f = matlab.loadmat('affnist/test.mat')\n",
    "\n",
    "x_test = f['affNISTdata'][0, 0][2].transpose().astype(np.float32)\n",
    "x_test = x_test.reshape(x_test.shape[0], img_rows, img_cols, 1)\n",
    "x_test /= 255\n",
    "input_shape = (img_rows, img_cols, 1)\n",
    "\n",
    "y_test = f['affNISTdata'][0, 0][4].transpose()\n",
    "\n",
    "score = model.evaluate(x_test, y_test, verbose=1)\n",
    "print('')\n",
    "print('Test score: ', score[0])\n",
    "print('Test accuracy: ', score[1])    "
   ]
  },
  {
   "cell_type": "code",
   "execution_count": null,
   "metadata": {
    "collapsed": true
   },
   "outputs": [],
   "source": []
  }
 ],
 "metadata": {
  "kernelspec": {
   "display_name": "Python 3",
   "language": "python",
   "name": "python3"
  },
  "language_info": {
   "codemirror_mode": {
    "name": "ipython",
    "version": 3
   },
   "file_extension": ".py",
   "mimetype": "text/x-python",
   "name": "python",
   "nbconvert_exporter": "python",
   "pygments_lexer": "ipython3",
   "version": "3.6.1"
  }
 },
 "nbformat": 4,
 "nbformat_minor": 2
}
