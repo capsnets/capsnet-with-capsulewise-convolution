{
 "cells": [
  {
   "cell_type": "markdown",
   "metadata": {},
   "source": [
    "# Testing custom CNN trained on padded and translated MNIST train set on affNIST test set"
   ]
  },
  {
   "cell_type": "code",
   "execution_count": 1,
   "metadata": {},
   "outputs": [
    {
     "name": "stderr",
     "output_type": "stream",
     "text": [
      "Using TensorFlow backend.\n"
     ]
    }
   ],
   "source": [
    "from keras import backend as K\n",
    "from keras.datasets import mnist\n",
    "from keras.models import Model, Sequential, load_model\n",
    "from keras.layers import Input, Conv2D, Activation, Dense, Dropout, Lambda\n",
    "from keras.layers import BatchNormalization, MaxPooling2D, Flatten, Conv1D\n",
    "from keras.utils import to_categorical\n",
    "from keras.callbacks import Callback, ModelCheckpoint, TensorBoard\n",
    "from keras import optimizers\n",
    "from keras import regularizers\n",
    "from keras import losses\n",
    "import numpy as np\n",
    "from scipy.io import matlab\n",
    "import os"
   ]
  },
  {
   "cell_type": "markdown",
   "metadata": {},
   "source": [
    "## Load train set generated in generate_datasets.py"
   ]
  },
  {
   "cell_type": "code",
   "execution_count": 2,
   "metadata": {
    "collapsed": true
   },
   "outputs": [],
   "source": [
    "img_rows, img_cols = 40, 40\n",
    "num_classes = 10\n",
    "\n",
    "(t_x_train, t_y_train), _ = mnist.load_data()\n",
    "\n",
    "reps = 1\n",
    "\n",
    "t_x_train = np.repeat(t_x_train, reps, axis=0)\n",
    "x_train = np.zeros((t_x_train.shape[0], 40, 40), dtype=np.float32)\n",
    "\n",
    "for i in range(0, x_train.shape[0]):\n",
    "    x, y = np.random.randint(0, 12, 2)\n",
    "    x_train[i, y:y+28, x:x+28] = t_x_train[i]\n",
    "\n",
    "y_train = np.repeat(t_y_train, reps, axis=0)\n",
    "\n",
    "x_train = x_train.reshape(x_train.shape[0], img_rows, img_cols, 1)\n",
    "x_train /= 255.0\n",
    "\n",
    "y_train = to_categorical(y_train, num_classes)\n",
    "\n",
    "input_shape = (img_rows, img_cols, 1)"
   ]
  },
  {
   "cell_type": "markdown",
   "metadata": {},
   "source": [
    "## Assemble CNN with 3 conv layers and two dense layers"
   ]
  },
  {
   "cell_type": "code",
   "execution_count": 3,
   "metadata": {},
   "outputs": [
    {
     "name": "stdout",
     "output_type": "stream",
     "text": [
      "_________________________________________________________________\n",
      "Layer (type)                 Output Shape              Param #   \n",
      "=================================================================\n",
      "input_1 (InputLayer)         (None, 40, 40, 1)         0         \n",
      "_________________________________________________________________\n",
      "conv2d_1 (Conv2D)            (None, 38, 38, 8)         80        \n",
      "_________________________________________________________________\n",
      "batch_normalization_1 (Batch (None, 38, 38, 8)         32        \n",
      "_________________________________________________________________\n",
      "max_pooling2d_1 (MaxPooling2 (None, 19, 19, 8)         0         \n",
      "_________________________________________________________________\n",
      "conv2d_2 (Conv2D)            (None, 17, 17, 16)        1168      \n",
      "_________________________________________________________________\n",
      "batch_normalization_2 (Batch (None, 17, 17, 16)        64        \n",
      "_________________________________________________________________\n",
      "max_pooling2d_2 (MaxPooling2 (None, 8, 8, 16)          0         \n",
      "_________________________________________________________________\n",
      "conv2d_3 (Conv2D)            (None, 6, 6, 32)          4640      \n",
      "_________________________________________________________________\n",
      "batch_normalization_3 (Batch (None, 6, 6, 32)          128       \n",
      "_________________________________________________________________\n",
      "max_pooling2d_3 (MaxPooling2 (None, 3, 3, 32)          0         \n",
      "_________________________________________________________________\n",
      "flatten_1 (Flatten)          (None, 288)               0         \n",
      "_________________________________________________________________\n",
      "dense_1 (Dense)              (None, 72)                20808     \n",
      "_________________________________________________________________\n",
      "batch_normalization_4 (Batch (None, 72)                288       \n",
      "_________________________________________________________________\n",
      "dense_2 (Dense)              (None, 10)                730       \n",
      "=================================================================\n",
      "Total params: 27,938\n",
      "Trainable params: 27,682\n",
      "Non-trainable params: 256\n",
      "_________________________________________________________________\n"
     ]
    }
   ],
   "source": [
    "l2 = regularizers.l2(l=0.001)\n",
    "\n",
    "inp = Input(shape=input_shape)\n",
    "l = inp\n",
    "\n",
    "l = Conv2D(8, (3, 3), activation='relu', kernel_regularizer=l2)(l)\n",
    "l = BatchNormalization()(l)\n",
    "l = MaxPooling2D((2, 2))(l)\n",
    "l = Conv2D(16, (3, 3), activation='relu', kernel_regularizer=l2)(l) \n",
    "l = BatchNormalization()(l)\n",
    "l = MaxPooling2D((2, 2))(l)\n",
    "l = Conv2D(32, (3, 3), activation='relu', kernel_regularizer=l2)(l)\n",
    "l = BatchNormalization()(l)\n",
    "l = MaxPooling2D((2, 2))(l)\n",
    "l = Flatten()(l)\n",
    "l = Dense(72, activation='relu', kernel_regularizer=l2)(l)\n",
    "l = BatchNormalization()(l)\n",
    "l = Dense(10, activation='softmax', kernel_regularizer=l2)(l)\n",
    "\n",
    "model = Model(inputs=inp, outputs=l, name='40x40_input_cnn')\n",
    "model.summary()"
   ]
  },
  {
   "cell_type": "code",
   "execution_count": 4,
   "metadata": {
    "collapsed": true
   },
   "outputs": [],
   "source": [
    "def caps_objective(y_true, y_pred):\n",
    "    return K.sum(y_true * K.clip(0.8 - y_pred, 0, 1) ** 2 + 0.5 * (1 - y_true) * K.clip(y_pred - 0.3, 0, 1) ** 2)\n",
    "\n",
    "optimizer = optimizers.Adam(lr=0.001)\n",
    "model.compile(loss=losses.categorical_crossentropy, #caps_objective,\n",
    "              optimizer=optimizer,\n",
    "              metrics=['accuracy'])"
   ]
  },
  {
   "cell_type": "code",
   "execution_count": 5,
   "metadata": {
    "collapsed": true
   },
   "outputs": [],
   "source": [
    "w_path = os.path.join('weights', model.name)\n",
    "\n",
    "if not os.path.exists(w_path):\n",
    "    os.makedirs(w_path)\n",
    "    \n",
    "f_name = os.path.join(w_path, 'weights.{epoch:02d}.hdf5')    "
   ]
  },
  {
   "cell_type": "code",
   "execution_count": 6,
   "metadata": {
    "collapsed": true
   },
   "outputs": [],
   "source": [
    "# model.load_weights('weights/40x40_input_cnn/weights.03.hdf5')"
   ]
  },
  {
   "cell_type": "markdown",
   "metadata": {},
   "source": [
    "# Train for 4 epochs"
   ]
  },
  {
   "cell_type": "code",
   "execution_count": 9,
   "metadata": {},
   "outputs": [
    {
     "name": "stdout",
     "output_type": "stream",
     "text": [
      "Train on 54600 samples, validate on 5400 samples\n",
      "Epoch 1/32\n",
      "54600/54600 [==============================] - 47s - loss: 0.1525 - acc: 0.9767 - val_loss: 0.1390 - val_acc: 0.9809\n",
      "Epoch 2/32\n",
      "54600/54600 [==============================] - 48s - loss: 0.1446 - acc: 0.9787 - val_loss: 0.2081 - val_acc: 0.9598\n",
      "Epoch 3/32\n",
      "54600/54600 [==============================] - 45s - loss: 0.1370 - acc: 0.9792 - val_loss: 0.1397 - val_acc: 0.9789\n",
      "Epoch 4/32\n",
      "54600/54600 [==============================] - 45s - loss: 0.1328 - acc: 0.9808 - val_loss: 0.1566 - val_acc: 0.9739\n",
      "Epoch 5/32\n",
      "54600/54600 [==============================] - 45s - loss: 0.1291 - acc: 0.9810 - val_loss: 0.1996 - val_acc: 0.9570\n",
      "Epoch 6/32\n",
      "54600/54600 [==============================] - 46s - loss: 0.1270 - acc: 0.9818 - val_loss: 0.1349 - val_acc: 0.9785\n",
      "Epoch 7/32\n",
      "54600/54600 [==============================] - 46s - loss: 0.1240 - acc: 0.9812 - val_loss: 0.1260 - val_acc: 0.9831\n",
      "Epoch 8/32\n",
      "54600/54600 [==============================] - 48s - loss: 0.1224 - acc: 0.9828 - val_loss: 0.1779 - val_acc: 0.9656\n",
      "Epoch 9/32\n",
      "54600/54600 [==============================] - 46s - loss: 0.1209 - acc: 0.9822 - val_loss: 0.1388 - val_acc: 0.9778\n",
      "Epoch 10/32\n",
      "54600/54600 [==============================] - 45s - loss: 0.1179 - acc: 0.9826 - val_loss: 0.1373 - val_acc: 0.9787\n",
      "Epoch 11/32\n",
      "54600/54600 [==============================] - 46s - loss: 0.1150 - acc: 0.9838 - val_loss: 0.1341 - val_acc: 0.9798\n",
      "Epoch 12/32\n",
      "54600/54600 [==============================] - 47s - loss: 0.1138 - acc: 0.9831 - val_loss: 0.1286 - val_acc: 0.9817\n",
      "Epoch 13/32\n",
      "54600/54600 [==============================] - 48s - loss: 0.1193 - acc: 0.9825 - val_loss: 0.1261 - val_acc: 0.9824\n",
      "Epoch 14/32\n",
      "54600/54600 [==============================] - 47s - loss: 0.1131 - acc: 0.9837 - val_loss: 0.1614 - val_acc: 0.9702\n",
      "Epoch 15/32\n",
      "54600/54600 [==============================] - 47s - loss: 0.1148 - acc: 0.9828 - val_loss: 0.1172 - val_acc: 0.9833\n",
      "Epoch 16/32\n",
      "54600/54600 [==============================] - 45s - loss: 0.1120 - acc: 0.9840 - val_loss: 0.1182 - val_acc: 0.9830\n",
      "Epoch 17/32\n",
      "54600/54600 [==============================] - 45s - loss: 0.1132 - acc: 0.9829 - val_loss: 0.1181 - val_acc: 0.9837\n",
      "Epoch 18/32\n",
      "54600/54600 [==============================] - 45s - loss: 0.1101 - acc: 0.9841 - val_loss: 0.1171 - val_acc: 0.9839\n",
      "Epoch 19/32\n",
      "54600/54600 [==============================] - 45s - loss: 0.1113 - acc: 0.9835 - val_loss: 0.1171 - val_acc: 0.9844\n",
      "Epoch 20/32\n",
      "54600/54600 [==============================] - 45s - loss: 0.1108 - acc: 0.9839 - val_loss: 0.1184 - val_acc: 0.9833\n",
      "Epoch 21/32\n",
      "54600/54600 [==============================] - 68s - loss: 0.1070 - acc: 0.9848 - val_loss: 0.1282 - val_acc: 0.9809\n",
      "Epoch 22/32\n",
      "54600/54600 [==============================] - 52s - loss: 0.1105 - acc: 0.9838 - val_loss: 0.1107 - val_acc: 0.9856\n",
      "Epoch 23/32\n",
      "54600/54600 [==============================] - 47s - loss: 0.1089 - acc: 0.9839 - val_loss: 0.1133 - val_acc: 0.9846\n",
      "Epoch 24/32\n",
      "54600/54600 [==============================] - 69s - loss: 0.1074 - acc: 0.9840 - val_loss: 0.1038 - val_acc: 0.9872\n",
      "Epoch 25/32\n",
      "54600/54600 [==============================] - 66s - loss: 0.1069 - acc: 0.9845 - val_loss: 0.1166 - val_acc: 0.9843\n",
      "Epoch 26/32\n",
      "54600/54600 [==============================] - 70s - loss: 0.1039 - acc: 0.9856 - val_loss: 0.1102 - val_acc: 0.9852\n",
      "Epoch 27/32\n",
      "54600/54600 [==============================] - 66s - loss: 0.1058 - acc: 0.9849 - val_loss: 0.1291 - val_acc: 0.9800\n",
      "Epoch 28/32\n",
      "54600/54600 [==============================] - 68s - loss: 0.1041 - acc: 0.9851 - val_loss: 0.1071 - val_acc: 0.9859\n",
      "Epoch 29/32\n",
      "54600/54600 [==============================] - 66s - loss: 0.1059 - acc: 0.9841 - val_loss: 0.1168 - val_acc: 0.9820\n",
      "Epoch 30/32\n",
      "54600/54600 [==============================] - 67s - loss: 0.1028 - acc: 0.9851 - val_loss: 0.1069 - val_acc: 0.9867\n",
      "Epoch 31/32\n",
      "54600/54600 [==============================] - 66s - loss: 0.1033 - acc: 0.9849 - val_loss: 0.1160 - val_acc: 0.9817\n",
      "Epoch 32/32\n",
      "54600/54600 [==============================] - 66s - loss: 0.1012 - acc: 0.9856 - val_loss: 0.1285 - val_acc: 0.9787\n"
     ]
    }
   ],
   "source": [
    "batch_size = 32\n",
    "num_epochs = 32\n",
    "\n",
    "h = model.fit(x_train, y_train,\n",
    "          batch_size=batch_size, epochs=num_epochs, initial_epoch=0,\n",
    "          verbose=1, validation_split=0.09,\n",
    "          callbacks=[ModelCheckpoint(f_name)])"
   ]
  },
  {
   "cell_type": "markdown",
   "metadata": {},
   "source": [
    "## Test on [affNIST test set](http://www.cs.toronto.edu/~tijmen/affNIST/32x/transformed/test.mat.zip)"
   ]
  },
  {
   "cell_type": "code",
   "execution_count": 10,
   "metadata": {},
   "outputs": [
    {
     "name": "stdout",
     "output_type": "stream",
     "text": [
      "319904/320000 [============================>.] - ETA: 0s\n",
      "Test score:  1.01800707984\n",
      "Test accuracy:  0.74180625\n"
     ]
    }
   ],
   "source": [
    "f = matlab.loadmat('affnist/test.mat')\n",
    "\n",
    "x_test = f['affNISTdata'][0, 0][2].astype(np.float32).transpose()\n",
    "x_test = x_test.reshape(x_test.shape[0], img_rows, img_cols, 1)\n",
    "x_test /= 255\n",
    "input_shape = (img_rows, img_cols, 1)\n",
    "\n",
    "y_test = f['affNISTdata'][0, 0][4].transpose()\n",
    "\n",
    "score = model.evaluate(x_test, y_test, verbose=1)\n",
    "print('')\n",
    "print('Test score: ', score[0])\n",
    "print('Test accuracy: ', score[1])    "
   ]
  },
  {
   "cell_type": "code",
   "execution_count": null,
   "metadata": {
    "collapsed": true
   },
   "outputs": [],
   "source": []
  }
 ],
 "metadata": {
  "kernelspec": {
   "display_name": "Python 3",
   "language": "python",
   "name": "python3"
  },
  "language_info": {
   "codemirror_mode": {
    "name": "ipython",
    "version": 3
   },
   "file_extension": ".py",
   "mimetype": "text/x-python",
   "name": "python",
   "nbconvert_exporter": "python",
   "pygments_lexer": "ipython3",
   "version": "3.6.1"
  }
 },
 "nbformat": 4,
 "nbformat_minor": 2
}
